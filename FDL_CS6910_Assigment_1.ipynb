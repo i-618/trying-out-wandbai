{
  "nbformat": 4,
  "nbformat_minor": 0,
  "metadata": {
    "colab": {
      "provenance": [],
      "authorship_tag": "ABX9TyMIdRZmcm6JhN1s83Jccaom",
      "include_colab_link": true
    },
    "kernelspec": {
      "name": "python3",
      "display_name": "Python 3"
    },
    "language_info": {
      "name": "python"
    }
  },
  "cells": [
    {
      "cell_type": "markdown",
      "metadata": {
        "id": "view-in-github",
        "colab_type": "text"
      },
      "source": [
        "<a href=\"https://colab.research.google.com/github/i-618/trying-out-wandbai/blob/main/FDL_CS6910_Assigment_1.ipynb\" target=\"_parent\"><img src=\"https://colab.research.google.com/assets/colab-badge.svg\" alt=\"Open In Colab\"/></a>"
      ]
    },
    {
      "cell_type": "code",
      "execution_count": null,
      "metadata": {
        "colab": {
          "base_uri": "https://localhost:8080/"
        },
        "id": "dS_YP0rLMLgC",
        "outputId": "8934a508-6c56-4fec-ac0d-0eca7821fdaa"
      },
      "outputs": [
        {
          "output_type": "stream",
          "name": "stdout",
          "text": [
            "\u001b[2K     \u001b[90m━━━━━━━━━━━━━━━━━━━━━━━━━━━━━━━━━━━━━━━━\u001b[0m \u001b[32m2.2/2.2 MB\u001b[0m \u001b[31m8.7 MB/s\u001b[0m eta \u001b[36m0:00:00\u001b[0m\n",
            "\u001b[2K     \u001b[90m━━━━━━━━━━━━━━━━━━━━━━━━━━━━━━━━━━━━━━━━\u001b[0m \u001b[32m195.4/195.4 kB\u001b[0m \u001b[31m12.0 MB/s\u001b[0m eta \u001b[36m0:00:00\u001b[0m\n",
            "\u001b[2K     \u001b[90m━━━━━━━━━━━━━━━━━━━━━━━━━━━━━━━━━━━━━━━━\u001b[0m \u001b[32m257.9/257.9 kB\u001b[0m \u001b[31m12.6 MB/s\u001b[0m eta \u001b[36m0:00:00\u001b[0m\n",
            "\u001b[2K     \u001b[90m━━━━━━━━━━━━━━━━━━━━━━━━━━━━━━━━━━━━━━━━\u001b[0m \u001b[32m62.7/62.7 kB\u001b[0m \u001b[31m7.8 MB/s\u001b[0m eta \u001b[36m0:00:00\u001b[0m\n",
            "\u001b[?25h"
          ]
        }
      ],
      "source": [
        "!pip install -qq -U wandb"
      ]
    },
    {
      "cell_type": "code",
      "source": [
        "# Log in to your W&B account\n",
        "import wandb\n",
        "from google.colab import userdata\n",
        "wandb.login(key = userdata.get('WANDB_API_KEY'), verify = True)\n"
      ],
      "metadata": {
        "colab": {
          "base_uri": "https://localhost:8080/"
        },
        "id": "fSXi4rQ-W4mU",
        "outputId": "b408c78e-279b-4574-93ab-97a78ad52461"
      },
      "execution_count": null,
      "outputs": [
        {
          "output_type": "stream",
          "name": "stderr",
          "text": [
            "\u001b[34m\u001b[1mwandb\u001b[0m: W&B API key is configured. Use \u001b[1m`wandb login --relogin`\u001b[0m to force relogin\n",
            "\u001b[34m\u001b[1mwandb\u001b[0m: \u001b[33mWARNING\u001b[0m If you're specifying your api key in code, ensure this code is not shared publicly.\n",
            "\u001b[34m\u001b[1mwandb\u001b[0m: \u001b[33mWARNING\u001b[0m Consider setting the WANDB_API_KEY environment variable, or running `wandb login` from the command line.\n",
            "\u001b[34m\u001b[1mwandb\u001b[0m: Appending key for api.wandb.ai to your netrc file: /root/.netrc\n"
          ]
        },
        {
          "output_type": "execute_result",
          "data": {
            "text/plain": [
              "True"
            ]
          },
          "metadata": {},
          "execution_count": 5
        }
      ]
    },
    {
      "cell_type": "markdown",
      "source": [
        "\n",
        "### Instructions\n",
        "\n",
        "https://wandb.ai/miteshk/assignments/reports/Assignment-1--VmlldzozNjk4NDE\n",
        "\n",
        "The goal of this assignment is twofold: (i) implement and use gradient descent (and its variants) with\n",
        "backpropagation for a classification task (ii) get familiar with wandb which is a cool tool for running and keeping track of a large number of experiments\n",
        "We strongly recommend that you work on this assignment in a team of size 2. Both the members\n",
        "of the team are expected to work together (in a subsequent viva both members will be expected to answer questions, explain the code, etc).\n",
        "Collaborations and discussions with other groups are strictly prohibited.\n",
        "You must use Python (numpy and pandas) for your implementation.\n",
        "You cannot use the following packages from keras, pytorch, tensorflow: optimizers, layers\n",
        "If you are using any packages from keras, pytorch, tensorflow then post on moodle first to check with the instructor.\n",
        "You can run the code in a jupyter notebook on colab by enabling GPUs.\n",
        "You have to generate the report in the same format as shown below using wandb.ai. You can start by cloning this report using the clone option above. Most of the plots that we have asked for below can be (automatically) generated using the apis provided by wandb.ai. You will upload a link to this report on gradescope.\n",
        "You also need to provide a link to your github code as shown below. Follow good software engineering practices and set up a github repo for the project on Day 1. Please do not write all code on your local machine and push everything to github on the last day. The commits in github should reflect how the code has evolved during the course of the assignment.\n",
        "You have to check moodle regularly for updates regarding the assignment.\n",
        "\n"
      ],
      "metadata": {
        "id": "gbrY3lHzQ5mP"
      }
    },
    {
      "cell_type": "code",
      "source": [],
      "metadata": {
        "id": "e0VNl9ZyMbSI"
      },
      "execution_count": null,
      "outputs": []
    },
    {
      "cell_type": "markdown",
      "source": [
        "###Problem Statement\n",
        "In this assignment you need to implement a feedforward neural network and write the backpropagation code for training the network. We strongly recommend using numpy for all matrix/vector operations. You are not allowed to use any automatic differentiation packages. This network will be trained and\n",
        "tested using the Fashion-MNIST dataset. Specifically, given an input image (28 x 28 = 784\n",
        "pixels) from the Fashion-MNIST dataset, the network will be trained to classify the image\n",
        "into 1 of 10 classes.\n",
        "\n",
        "###Question 1 (2 Marks)\n",
        "Download the fashion-MNIST dataset and plot 1 sample image for each class as shown in the grid below. Use \"from keras.datasets import fashion_mnist\" for getting the fashion mnist dataset.\n",
        "\n"
      ],
      "metadata": {
        "id": "sNbFZuEgMcVE"
      }
    },
    {
      "cell_type": "code",
      "source": [
        "from keras.datasets import fashion_mnist\n",
        "import numpy as np"
      ],
      "metadata": {
        "id": "eumLJyY_MbbZ"
      },
      "execution_count": null,
      "outputs": []
    },
    {
      "cell_type": "code",
      "source": [
        "(x_train, y_train), (x_test, y_test) = fashion_mnist.load_data()\n"
      ],
      "metadata": {
        "colab": {
          "base_uri": "https://localhost:8080/"
        },
        "id": "erdWqAMpMh5x",
        "outputId": "2d9105ba-17d6-4bb9-f621-c7d464f121a7"
      },
      "execution_count": null,
      "outputs": [
        {
          "output_type": "stream",
          "name": "stdout",
          "text": [
            "Downloading data from https://storage.googleapis.com/tensorflow/tf-keras-datasets/train-labels-idx1-ubyte.gz\n",
            "29515/29515 [==============================] - 0s 0us/step\n",
            "Downloading data from https://storage.googleapis.com/tensorflow/tf-keras-datasets/train-images-idx3-ubyte.gz\n",
            "26421880/26421880 [==============================] - 0s 0us/step\n",
            "Downloading data from https://storage.googleapis.com/tensorflow/tf-keras-datasets/t10k-labels-idx1-ubyte.gz\n",
            "5148/5148 [==============================] - 0s 0us/step\n",
            "Downloading data from https://storage.googleapis.com/tensorflow/tf-keras-datasets/t10k-images-idx3-ubyte.gz\n",
            "4422102/4422102 [==============================] - 0s 0us/step\n"
          ]
        }
      ]
    },
    {
      "cell_type": "code",
      "source": [
        "y_train[0]\n",
        "\n",
        "fmnist_labels = {\n",
        "0 :\t'T-shirt/top',\n",
        "1 :\t'Trouser',\n",
        "2 :\t'Pullover',\n",
        "3 :\t'Dress',\n",
        "4 :\t'Coat',\n",
        "5 :\t'Sandal',\n",
        "6 :\t'Shirt',\n",
        "7 :\t'Sneaker',\n",
        "8 :\t'Bag',\n",
        "9 :\t'Ankle boot'}\n",
        "fmnist_labels[y_train[0]]"
      ],
      "metadata": {
        "colab": {
          "base_uri": "https://localhost:8080/",
          "height": 35
        },
        "id": "C3S__TI6Ssmb",
        "outputId": "87ce49ca-018f-4fca-f931-67dbb6253638"
      },
      "execution_count": null,
      "outputs": [
        {
          "output_type": "execute_result",
          "data": {
            "text/plain": [
              "'Ankle boot'"
            ],
            "application/vnd.google.colaboratory.intrinsic+json": {
              "type": "string"
            }
          },
          "metadata": {},
          "execution_count": 13
        }
      ]
    },
    {
      "cell_type": "markdown",
      "source": [
        "|Label |\tDescription|\n",
        "|--- |\t---- |\n",
        "|0 |\tT-shirt/top|\n",
        "|1 |\tTrouser|\n",
        "|2 |\tPullover|\n",
        "|3 |\tDress|\n",
        "|4 |\tCoat|\n",
        "|5 |\tSandal|\n",
        "|6 |\tShirt|\n",
        "|7 |\tSneaker|\n",
        "|8 |\tBag|\n",
        "|9 |\tAnkle boot|"
      ],
      "metadata": {
        "id": "tVQohUdQTFRS"
      }
    },
    {
      "cell_type": "code",
      "source": [
        "run = wandb.init(\n",
        "      # Set the project where this run will be logged\n",
        "      project=\"pytorch-demo\"\n",
        "      )\n",
        "\n"
      ],
      "metadata": {
        "colab": {
          "base_uri": "https://localhost:8080/",
          "height": 104
        },
        "id": "nc_d-kaEcaU-",
        "outputId": "c8d14cdd-2703-44e0-ab9c-a1f98afa2bf7"
      },
      "execution_count": null,
      "outputs": [
        {
          "output_type": "display_data",
          "data": {
            "text/plain": [
              "<IPython.core.display.HTML object>"
            ],
            "text/html": [
              "Tracking run with wandb version 0.16.3"
            ]
          },
          "metadata": {}
        },
        {
          "output_type": "display_data",
          "data": {
            "text/plain": [
              "<IPython.core.display.HTML object>"
            ],
            "text/html": [
              "Run data is saved locally in <code>/content/wandb/run-20240219_034547-zb0so09w</code>"
            ]
          },
          "metadata": {}
        },
        {
          "output_type": "display_data",
          "data": {
            "text/plain": [
              "<IPython.core.display.HTML object>"
            ],
            "text/html": [
              "Syncing run <strong><a href='https://wandb.ai/ns24z066/pytorch-demo/runs/zb0so09w' target=\"_blank\">thriving-kumquat-2</a></strong> to <a href='https://wandb.ai/ns24z066/pytorch-demo' target=\"_blank\">Weights & Biases</a> (<a href='https://wandb.me/run' target=\"_blank\">docs</a>)<br/>"
            ]
          },
          "metadata": {}
        },
        {
          "output_type": "display_data",
          "data": {
            "text/plain": [
              "<IPython.core.display.HTML object>"
            ],
            "text/html": [
              " View project at <a href='https://wandb.ai/ns24z066/pytorch-demo' target=\"_blank\">https://wandb.ai/ns24z066/pytorch-demo</a>"
            ]
          },
          "metadata": {}
        },
        {
          "output_type": "display_data",
          "data": {
            "text/plain": [
              "<IPython.core.display.HTML object>"
            ],
            "text/html": [
              " View run at <a href='https://wandb.ai/ns24z066/pytorch-demo/runs/zb0so09w' target=\"_blank\">https://wandb.ai/ns24z066/pytorch-demo/runs/zb0so09w</a>"
            ]
          },
          "metadata": {}
        }
      ]
    },
    {
      "cell_type": "code",
      "source": [
        "examples = []\n",
        "for i in range(100):\n",
        "    pixels = x_train[i]\n",
        "    image = wandb.Image(pixels, caption=f\"{fmnist_labels[y_train[i]]} {i}\")\n",
        "    examples.append(image)\n",
        "run.log({\"examples\": examples})\n"
      ],
      "metadata": {
        "id": "OhSTHV3mfkJM"
      },
      "execution_count": null,
      "outputs": []
    },
    {
      "cell_type": "markdown",
      "source": [
        "###Question 2 (10 Marks)\n",
        "Implement a feedforward neural network which takes images from the fashion-mnist data as input and outputs a probability distribution over the 10 classes.\n",
        "Your code should be flexible so that it is easy to change the number of hidden layers and the number of neurons in each hidden layer.\n",
        "We will check the code for implementation and ease of use."
      ],
      "metadata": {
        "id": "iJdTa8OpMioE"
      }
    },
    {
      "cell_type": "code",
      "source": [],
      "metadata": {
        "id": "OIu2yOQJMjJX"
      },
      "execution_count": null,
      "outputs": []
    },
    {
      "cell_type": "markdown",
      "source": [
        "\n",
        "\n",
        "###Question 3 (18 Marks)\n",
        "Implement the backpropagation algorithm with support for the following optimisation functions\n",
        "sgd\n",
        "momentum based gradient descent\n",
        "nesterov accelerated gradient descent\n",
        "rmsprop\n",
        "adam\n",
        "nadam\n",
        "(12 marks for the backpropagation framework and 2 marks for each of the optimisation algorithms above)\n",
        "We will check the code for implementation and ease of use (e.g., how easy it is to add a new optimisation algorithm such as Eve). Note that the code should be flexible enough to work with different batch sizes.\n",
        "\n"
      ],
      "metadata": {
        "id": "D3Is9QI8RVVK"
      }
    },
    {
      "cell_type": "code",
      "source": [],
      "metadata": {
        "id": "OtcH52IjRgJS"
      },
      "execution_count": null,
      "outputs": []
    },
    {
      "cell_type": "markdown",
      "source": [
        "###Question 4 (10 Marks)\n",
        "Use the sweep functionality provided by wandb to find the best values for the hyperparameters listed below. Use the standard train/test split of fashion_mnist (use (X_train, y_train), (X_test, y_test) = fashion_mnist.load_data()).  Keep 10% of the training data aside as validation data for this hyperparameter search. Here are some suggestions for different values to try for hyperparameters. As you can quickly see that this leads to an exponential number of combinations. You will have to think about strategies to do this hyperparameter search efficiently. Check out the options provided by wandb.sweep and write down what strategy you chose and why.\n",
        "number of epochs: 5, 10\n",
        "number of hidden layers:  3, 4, 5\n",
        "size of every hidden layer:  32, 64, 128\n",
        "weight decay (L2 regularisation): 0, 0.0005,  0.5\n",
        "learning rate: 1e-3, 1 e-4\n",
        "optimizer:  sgd, momentum, nesterov, rmsprop, adam, nadam\n",
        "batch size: 16, 32, 64\n",
        "weight initialisation: random, Xavier\n",
        "activation functions: sigmoid, tanh, ReLU\n",
        "wandb will automatically generate the following plots. Paste these plots below using the \"Add Panel to Report\" feature. Make sure you use meaningful names for each sweep (e.g. hl_3_bs_16_ac_tanh to indicate that there were 3 hidden layers, batch size was 16 and activation function was ReLU) instead of using the default names (whole-sweep, kind-sweep) given by wandb.\n",
        "\n"
      ],
      "metadata": {
        "id": "T2Omn5LDRhjX"
      }
    },
    {
      "cell_type": "code",
      "source": [],
      "metadata": {
        "id": "jhm0g7NORjVn"
      },
      "execution_count": null,
      "outputs": []
    },
    {
      "cell_type": "markdown",
      "source": [
        "\n",
        "###Question 5 (5 marks)\n",
        "We would like to see the best accuracy on the validation set across all the models that you train.\n",
        "wandb automatically generates this plot which summarises the test accuracy of all the models that you tested. Please paste this plot below using the \"Add Panel to Report\" feature\n"
      ],
      "metadata": {
        "id": "aUyKA6MpRkBm"
      }
    },
    {
      "cell_type": "code",
      "source": [],
      "metadata": {
        "id": "yIyX2bFzRlWU"
      },
      "execution_count": null,
      "outputs": []
    },
    {
      "cell_type": "markdown",
      "source": [
        "\n",
        "###Question 6 (20 Marks)\n",
        "Based on the different experiments that you have run we want you to make some inferences about which configurations worked and which did not.\n",
        "Here again, wandb automatically generates a \"Parallel co-ordinates plot\" and a \"correlation summary\" as shown below. Learn about a \"Parallel co-ordinates plot\" and how to read it.\n",
        "By looking at the plots that you get, write down some interesting observations (simple bullet points but should be insightful). You can also refer to the plot in Question 5 while writing these insights. For example, in the above sample plot there are many configurations which give less than 65% accuracy. I would like to zoom into those and see what is happening.\n",
        "I would also like to see a recommendation for what configuration to use to get close to 95% accuracy.\n"
      ],
      "metadata": {
        "id": "6KskqOFcRl4E"
      }
    },
    {
      "cell_type": "code",
      "source": [],
      "metadata": {
        "id": "bp1m_CPvRnTP"
      },
      "execution_count": null,
      "outputs": []
    },
    {
      "cell_type": "markdown",
      "source": [
        "\n",
        "###Question 7 (10 Marks)\n",
        "For the best model identified above, report the accuracy on the test set of fashion_mnist and plot the confusion matrix as shown below. More marks for creativity (less marks for producing the plot shown below as it is)\n"
      ],
      "metadata": {
        "id": "9XQJds6JRn21"
      }
    },
    {
      "cell_type": "code",
      "source": [],
      "metadata": {
        "id": "zyi5lTwPRpH4"
      },
      "execution_count": null,
      "outputs": []
    },
    {
      "cell_type": "markdown",
      "source": [
        "\n",
        "###Question 8 (5 Marks)\n",
        "In all the models above you would have used cross entropy loss. Now compare the cross entropy loss with the squared error loss. I would again like to see some automatically generated plots or your own plots to convince me whether one is better than the other.\n"
      ],
      "metadata": {
        "id": "NV7kKvuHRqIu"
      }
    },
    {
      "cell_type": "code",
      "source": [],
      "metadata": {
        "id": "7BpI_B45RrWT"
      },
      "execution_count": null,
      "outputs": []
    },
    {
      "cell_type": "markdown",
      "source": [
        "\n",
        "###Question 9 (10 Marks)\n",
        "Paste a link to your github code for this assignment\n",
        "Example: \\hrefhttps://github.com/<user-id>/cs6910_assignment1https://github.com/<user-id>/cs6910_assignment1;\n",
        "We will check for coding style, clarity in using functions and a README file with clear instructions on training and evaluating the model (the 10 marks will be based on this)\n",
        "We will also run a plagiarism check to ensure that the code is not copied (0 marks in the assignment if we find that the code is plagiarised)\n",
        "We will check the number of commits made by the two team members and then give marks accordingly. For example, if we see 70% of the commits were made by one team member then that member will get more marks in the assignment (\\textbfnote that this contribution will decide the marks split for the entire assignment and not just this question).\n",
        "We will also check if the training and test data has been split properly and randomly. You will get 0 marks on the assignment if we find any cheating (e.g., adding test data to training data) to get higher accuracy\n"
      ],
      "metadata": {
        "id": "qNSlL38qRr0V"
      }
    },
    {
      "cell_type": "code",
      "source": [],
      "metadata": {
        "id": "Of3bdvNzRtGS"
      },
      "execution_count": null,
      "outputs": []
    },
    {
      "cell_type": "markdown",
      "source": [
        "\n",
        "###Question 10 (10 Marks)\n",
        "Based on your learnings above, give me 3 recommendations for what would work for the MNIST dataset (not Fashion-MNIST). Just to be clear, I am asking you to take your learnings based on extensive experimentation with one dataset and see if these learnings help on another dataset. If I give you a budget of running only 3 hyperparameter configurations as opposed to the large number of experiments you have run above then which 3 would you use and why. Report the accuracies that you obtain using these 3 configurations.\n"
      ],
      "metadata": {
        "id": "xbHNbn2DRtkz"
      }
    },
    {
      "cell_type": "code",
      "source": [],
      "metadata": {
        "id": "Sk2XHnOwRt3N"
      },
      "execution_count": null,
      "outputs": []
    }
  ]
}